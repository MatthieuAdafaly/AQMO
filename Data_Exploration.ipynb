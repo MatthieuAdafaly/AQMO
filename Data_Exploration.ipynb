{
 "cells": [
  {
   "cell_type": "markdown",
   "id": "00476433-40ee-4af9-a512-a611e0ab3559",
   "metadata": {},
   "source": [
    "Author: Adafaly Matthieu </br>"
   ]
  },
  {
   "cell_type": "markdown",
   "id": "6b4f5b9c-c057-4beb-95f8-71d563c00cab",
   "metadata": {},
   "source": [
    "This notebook still has some modifications to be made and is not finished yet."
   ]
  },
  {
   "cell_type": "markdown",
   "id": "ea5f3a16-c9d9-4dfa-a6bf-044bb8718e84",
   "metadata": {},
   "source": [
    "# Importing libraries\n"
   ]
  },
  {
   "cell_type": "code",
   "execution_count": null,
   "id": "04805837-ba1f-4bef-bf4c-1d00acb21934",
   "metadata": {},
   "outputs": [],
   "source": [
    "import plotly.express as px\n",
    "import pandas as pd\n",
    "import seaborn as sns\n",
    "import matplotlib.pyplot as plt\n",
    "import numpy as np\n",
    "from scipy.stats import norm\n",
    "from scipy.stats import wilcoxon\n",
    "from scipy.stats import shapiro\n",
    "import scipy.stats as stats\n",
    "from sklearn.model_selection import train_test_split\n"
   ]
  },
  {
   "cell_type": "markdown",
   "id": "585425c8-24f5-4fcd-8203-026c38ba4791",
   "metadata": {},
   "source": [
    "# Data\n"
   ]
  },
  {
   "cell_type": "code",
   "execution_count": null,
   "id": "bc86a394-2d38-4c19-9b0d-b798dfcf0118",
   "metadata": {},
   "outputs": [],
   "source": [
    "df = pd.read_pickle(\"Data/pollution_rennes_filter.pkl\")\n",
    "print(\"dataframe loaded\")"
   ]
  },
  {
   "cell_type": "code",
   "execution_count": null,
   "id": "b605ae48-34f7-42fd-8317-61e5e0300623",
   "metadata": {
    "scrolled": true
   },
   "outputs": [],
   "source": [
    "display(df)"
   ]
  },
  {
   "cell_type": "code",
   "execution_count": null,
   "id": "cf21a912-896d-4463-8d41-998140e61301",
   "metadata": {},
   "outputs": [],
   "source": [
    "df_stationnary = df.loc[(df['sensor_type'] == 'fixedGps') & (df['PM_2.5'].notna())]\n",
    "df_mobile = df.loc[(df['sensor_type'] == 'mobileGps') & (df['PM_2.5'].notna())]"
   ]
  },
  {
   "cell_type": "markdown",
   "id": "66360f31-eecc-451a-b727-bc961ce3c475",
   "metadata": {},
   "source": [
    "## Data visualization"
   ]
  },
  {
   "cell_type": "code",
   "execution_count": null,
   "id": "8cc9f840-d594-4db2-a9d8-d9e8804ea87b",
   "metadata": {},
   "outputs": [],
   "source": [
    "# Calculate the hourly average PM₂.₅ per sensor\n",
    "mean_values = df.groupby(['hour', 'sensor_name'])['PM_2.5'].mean().reset_index()\n",
    "\n",
    "# Remove a specific station if needed\n",
    "mean_values = mean_values[mean_values['sensor_name'] != 'standalone-LOPY-AQ05']\n",
    "\n",
    "# Set the figure size\n",
    "plt.figure(figsize=(12, 6))\n",
    "\n",
    "# Plot the lines using Seaborn\n",
    "sns.lineplot(data=mean_values, x='hour', y='PM_2.5', hue='sensor_name')\n",
    "\n",
    "# Add title and labels\n",
    "plt.title(\"Average PM₂.₅ Concentration by Hour and Sensor\")\n",
    "plt.xlabel(\"Time of Day (Hour)\")\n",
    "plt.ylabel(\"PM₂.₅ Concentration (µg/m³)\")\n",
    "plt.legend(title=\"Station\", bbox_to_anchor=(1.05, 0.5), loc='center left')\n",
    "plt.tight_layout()\n",
    "\n",
    "# Show the plot\n",
    "plt.show()\n"
   ]
  },
  {
   "cell_type": "code",
   "execution_count": null,
   "id": "c140aead-3071-4f04-b393-908e55a13ac6",
   "metadata": {},
   "outputs": [],
   "source": [
    "###### Define the order of the days of the week\n",
    "week_days_order = ['Monday', 'Tuesday', 'Wednesday', 'Thursday', 'Friday', 'Saturday', 'Sunday']\n",
    "df['day_week'] = pd.Categorical(df['day_week'], categories=week_days_order, ordered=True)\n",
    "\n",
    "# Compute the average PM2.5 concentration\n",
    "mean_values = df.groupby(['day_week', 'sensor_name'], observed=True)['PM_2.5'].mean().reset_index()\n",
    "\n",
    "# Create the line plot\n",
    "plt.figure(figsize=(12, 6))\n",
    "sns.lineplot(data=mean_values, x='day_week', y='PM_2.5', hue='sensor_name', marker='o')\n",
    "\n",
    "# Add title and axis labels\n",
    "plt.title(\"Average PM₂.₅ Concentration by Day of the Week and Sensor\")\n",
    "plt.xlabel(\"Day of the Week\")\n",
    "plt.ylabel(\"PM₂.₅ Concentration (µg/m³)\")\n",
    "\n",
    "# Show legend on the right\n",
    "plt.legend(title=\"Sensor\", bbox_to_anchor=(1.05, 0.5), loc='center left')\n",
    "plt.tight_layout()\n",
    "\n",
    "# Display the plot\n",
    "plt.show()"
   ]
  },
  {
   "cell_type": "code",
   "execution_count": null,
   "id": "fb2d855f-614d-4d70-8ed6-d0da0b63ad6e",
   "metadata": {},
   "outputs": [],
   "source": [
    "# Create a boxplot with Plotly\n",
    "df_box = df.copy()\n",
    "df_box['sensor_name'] = df_box.index.get_level_values('sensor_name')\n",
    "\n",
    "fig = px.box(df_box, \n",
    "             x=\"sensor_name\", \n",
    "             y=\"PM_2.5\", \n",
    "             title=\"Distribution of pollution value by sensor\", \n",
    "             labels={\"PM_2.5\": \"Pollution value (µg/m³)\", \"sensor_name\": \"Sensor name\"})\n",
    "\n",
    "# Update the margins to recenter the box\n",
    "fig.update_layout(\n",
    "    margin=dict(l=40, r=40, t=40, b=40),  # Adjust the left, right, top, bottom margins\n",
    "    boxmode='group',  # Ensure that the boxes do not overlap\n",
    "    yaxis=dict(\n",
    "        range=[df['PM_2.5'].quantile(0.05), df['PM_2.5'].quantile(0.95)]  # Limit the y-axis to the 5-95% of the data\n",
    "    )\n",
    ")\n",
    "# Display the graph\n",
    "fig.show()"
   ]
  },
  {
   "cell_type": "code",
   "execution_count": null,
   "id": "66a64043-527e-40e2-bff3-be326a31e859",
   "metadata": {},
   "outputs": [],
   "source": [
    "lissage=14\n",
    "global_mean = df.groupby(\n",
    "    df.index.get_level_values('measure_date').floor('D')\n",
    ")['PM_2.5'].mean().reset_index()\n",
    "\n",
    "global_mean.columns = ['date', 'mean_v']\n",
    "\n",
    "\n",
    "# Adding the smoothed mean\n",
    "global_mean['smoothed_mean'] = global_mean['mean_v'].rolling(window=lissage, center=True).mean()\n",
    "\n",
    "# Interactive plot of the global mean\n",
    "fig = px.line(\n",
    "    global_mean,\n",
    "    x='date',\n",
    "    y='mean_v',\n",
    "    markers=True,\n",
    "    title=\"Daily Mean PM₂.₅ Concentration\",\n",
    "    labels={\n",
    "        'mean_v': 'Concentration (µg/m³)',\n",
    "        'date': 'Date'\n",
    "    }\n",
    ")\n",
    "\n",
    "# Adding the smoothed line (black line)\n",
    "fig.add_scatter(\n",
    "    x=global_mean['date'],\n",
    "    y=global_mean['smoothed_mean'],\n",
    "    mode='lines',\n",
    "    name=f'Smoothed mean ({lissage} days)',\n",
    "    line=dict(color='black', width=3)\n",
    ")\n",
    "fig.update_traces(line_color='darkorange', line_width=3, selector=dict(name=None))  # main line\n",
    "fig.update_layout(hovermode='x unified')\n",
    "\n",
    "fig.show()"
   ]
  },
  {
   "cell_type": "markdown",
   "id": "acb04294-3a69-4f7f-abfb-36a685f0c47a",
   "metadata": {},
   "source": [
    "### Creation of a sample that is representative"
   ]
  },
  {
   "cell_type": "code",
   "execution_count": null,
   "id": "1615f058-aae2-496b-a991-728f43fd8467",
   "metadata": {},
   "outputs": [],
   "source": [
    "df['pollution_bins'] = pd.qcut(df['PM_2.5'], q=10, labels=False)\n",
    "df['strata'] = df.index.get_level_values('sensor_name') + '_' + df['month'].astype(str)+ '_' + df['pollution_bins'].astype(str)\n",
    "prop = 1000 / len(df)\n",
    "print(\"Proportion pour 1000 individus:\", prop)\n",
    "\n",
    "counts = df['strata'].value_counts()\n",
    "\n",
    "rare_classes = counts[counts < 2].index\n",
    "\n",
    "df = df[~df['strata'].isin(rare_classes)]\n",
    "\n",
    "\n",
    "sample_df, _ = train_test_split(\n",
    "    df,\n",
    "    train_size=prop,    \n",
    "    stratify=df['strata'],\n",
    "    random_state=42\n",
    ")\n",
    "\n",
    "df = sample_df.drop(columns=['strata', 'pollution_bins'])\n",
    "print('fin')\n",
    "print(\"Taille de l'échantillon :\", len(sample_df))"
   ]
  },
  {
   "cell_type": "markdown",
   "id": "a3b5bb31-4eb8-427e-aa01-4692208ea9fc",
   "metadata": {},
   "source": [
    "### PM₂.₅ Data Distribution Across Different Variables\n"
   ]
  },
  {
   "cell_type": "code",
   "execution_count": null,
   "id": "b2a0be3d-75a9-44b6-a6ca-115c481ecaec",
   "metadata": {},
   "outputs": [],
   "source": [
    "# Extract all PM₂.₅ values (excluding missing values)\n",
    "data = df['PM_2.5'].dropna()\n",
    "\n",
    "# Create the figure\n",
    "plt.figure(figsize=(10, 6))\n",
    "\n",
    "# Histogram \n",
    "sns.histplot(data, bins=200, kde=True, color='orange', stat=\"density\", edgecolor=None, label='Actual data (KDE)')\n",
    "\n",
    "# Theoretical normal distribution curve\n",
    "mu = data.mean()\n",
    "sigma = data.std()\n",
    "x = np.linspace(0, 40, 500)\n",
    "y = norm.pdf(x, mu, sigma)\n",
    "plt.plot(x, y, color='red', linestyle='--', linewidth=2, label=f'Normal distribution\\nμ={mu:.2f}, σ={sigma:.2f}')\n",
    "\n",
    "# Graph adjustments\n",
    "plt.title(\"Overall PM₂.₅ Distribution Normal Curve\")\n",
    "plt.xlabel(\"PM₂.₅ (µg/m³)\")\n",
    "plt.ylabel(\"Density\")\n",
    "plt.xlim(0, 40)\n",
    "plt.legend()\n",
    "plt.tight_layout()\n",
    "plt.show()\n"
   ]
  },
  {
   "cell_type": "code",
   "execution_count": null,
   "id": "d4d620ba-671d-4a68-ae54-237c1e50866a",
   "metadata": {},
   "outputs": [],
   "source": [
    "data = df['PM_2.5'].dropna()\n",
    "# Histogram \n",
    "sns.histplot(data, bins=200, kde=True, color='orange', stat=\"density\", edgecolor=None, label='Actual data (KDE)')\n",
    "\n",
    "# Theoretical normal distribution curve\n",
    "mu = data.mean()\n",
    "sigma = data.std()\n",
    "x = np.linspace(0, 40, 500)\n",
    "y = norm.pdf(x, mu, sigma)\n",
    "plt.plot(x, y, color='red', linestyle='--', linewidth=2, label=f'Normal distribution\\nμ={mu:.2f}, σ={sigma:.2f}')\n",
    "\n",
    "# Graph adjustments\n",
    "plt.title(\"Overall PM₂.₅ Distribution Normal Curve\")\n",
    "plt.xlabel(\"PM₂.₅ (µg/m³)\")\n",
    "plt.ylabel(\"Density\")\n",
    "plt.xlim(0, 40)\n",
    "plt.legend()\n",
    "plt.tight_layout()\n",
    "plt.show()"
   ]
  },
  {
   "cell_type": "code",
   "execution_count": null,
   "id": "92f0cdb3-d9f5-464c-b005-9eaf8e72fc52",
   "metadata": {},
   "outputs": [],
   "source": [
    "stat, p_value = shapiro(data)\n",
    "print(f\"Shapiro-Wilk Test: statistic = {stat:.4f}, p-value = {p_value:.4f}\")\n",
    "if p_value > 0.05:\n",
    "    print(\"✅ The data probably follows a normal distribution.\")\n",
    "else:\n",
    "    print(\"❌ The data does not follow a normal distribution.\")\n"
   ]
  },
  {
   "cell_type": "code",
   "execution_count": null,
   "id": "a403012e-f6ec-40e4-a90d-5959357571ff",
   "metadata": {},
   "outputs": [],
   "source": [
    "print(sample_df['PM_2.5'].dtype)\n",
    "df['PM_2.5'] = pd.to_numeric(df['PM_2.5'], errors='coerce')\n",
    "print(sample_df['PM_2.5'].dtype)"
   ]
  },
  {
   "cell_type": "code",
   "execution_count": null,
   "id": "16e38902-d1ad-46d4-af8e-fade575f6f68",
   "metadata": {},
   "outputs": [],
   "source": [
    "# Example using your 'PM_2.5' column\n",
    "df['log_PM2.5'] = np.log(df['PM_2.5'] + 1)  # +1 to avoid log(0)\n",
    "# Extract all PM₂.₅ values (excluding missing values)\n",
    "data = df['log_PM2.5']\n",
    "\n",
    "# Create the figure\n",
    "plt.figure(figsize=(10, 6))\n",
    "\n",
    "# Histogram \n",
    "sns.histplot(data, bins=200, kde=True, color='orange', stat=\"density\", edgecolor=None, label='Actual data (KDE)')\n",
    "\n",
    "# Theoretical normal distribution curve\n",
    "mu = data.mean()\n",
    "sigma = data.std()\n",
    "x = np.linspace(0, 40, 500)\n",
    "y = norm.pdf(x, mu, sigma)\n",
    "plt.plot(x, y, color='red', linestyle='--', linewidth=2, label=f'Normal distribution\\nμ={mu:.2f}, σ={sigma:.2f}')\n",
    "\n",
    "# Graph adjustments\n",
    "plt.title(\"Overall PM₂.₅ Distribution with Normal Curve\")\n",
    "plt.xlabel(\"PM₂.₅ (µg/m³)\")\n",
    "plt.ylabel(\"Density\")\n",
    "plt.xlim(0, 40)\n",
    "plt.legend()\n",
    "plt.tight_layout()\n",
    "plt.show()\n"
   ]
  },
  {
   "cell_type": "code",
   "execution_count": null,
   "id": "f12d8f6e-3793-417b-9cfe-d90700d5009a",
   "metadata": {},
   "outputs": [],
   "source": [
    "stat, p_value = shapiro(data)\n",
    "print(f\"Shapiro-Wilk Test: statistic = {stat:.4f}, p-value = {p_value:.4f}\")\n",
    "if p_value > 0.05:\n",
    "    print(\"✅ The data probably follows a normal distribution.\")\n",
    "else:    print(\"❌ The data does not follow a normal distribution.\")\n"
   ]
  },
  {
   "cell_type": "code",
   "execution_count": null,
   "id": "9c5badff-8f72-4013-813e-6c5e4ae9217d",
   "metadata": {},
   "outputs": [],
   "source": [
    "data = df['log_PM2.5']\n",
    "stats.probplot(data, dist=\"norm\", plot=plt)\n",
    "plt.title(\"Q-Q plot for log(PM2.5)\")\n",
    "plt.grid()\n",
    "plt.show()\n"
   ]
  },
  {
   "cell_type": "markdown",
   "id": "8ae794e7-ddd0-4bc0-9676-40631fce337c",
   "metadata": {},
   "source": [
    "The Wilcoxon signed-rank test is a non-parametric test used to compare two related samples. It evaluates whether the median difference between paired observations is significantly different from zero. It does not assume normal distribution, making it suitable for skewed data like pollution measurements. Unlike the paired t-test, the Wilcoxon test does not assume normality, which is important here since pollution data often deviate from a normal distribution."
   ]
  },
  {
   "cell_type": "code",
   "execution_count": null,
   "id": "e402346e-9d6d-455f-8721-3167e3ae09fd",
   "metadata": {},
   "outputs": [],
   "source": [
    "# Dictionary mapping month numbers to month names\n",
    "month_names = {\n",
    "    1: 'January', 2: 'February', 3: 'March', 4: 'April', 5: 'May', 6: 'June',\n",
    "    7: 'July', 8: 'August', 9: 'September', 10: 'October', 11: 'November', 12: 'December'\n",
    "}\n",
    "\n",
    "# If you have a dataframe df with 'month' for the month and 'PM_2.5' for pollution data\n",
    "# Example: df = pd.read_csv('your_file.csv')\n",
    "\n",
    "for month in range(1, 12):  # Stop at 11 to compare month 1-2, 2-3, ..., 11-12\n",
    "    # Select pollution data for each month\n",
    "    data_month1 = df[df['month'] == month]['PM_2.5'].dropna()\n",
    "    data_month2 = df[df['month'] == month + 1]['PM_2.5'].dropna()\n",
    "\n",
    "    # Check if data is not empty\n",
    "    if len(data_month1) > 50 and len(data_month2) > 50:\n",
    "        # Draw a random sample of 1000 measurements from each month\n",
    "        data_month1 = np.random.choice(data_month1, 50, replace=False)  # Sample of 1000\n",
    "        data_month2 = np.random.choice(data_month2, 50, replace=False)  # Sample of 1000\n",
    "\n",
    "        # Perform the Wilcoxon test\n",
    "        stat, p_value = wilcoxon(data_month1, data_month2)\n",
    "\n",
    "        print(f\"Comparison between {month_names[month]} and {month_names[month + 1]}:\")\n",
    "        print(f\"  Statistic: {stat}, p-value: {p_value}\")\n",
    "\n",
    "        # Interpret the p-value\n",
    "        if p_value < 0.05:\n",
    "            print(\"  ✅ Significant difference in pollution levels.\")\n",
    "        else:\n",
    "            print(\"  ❌ No significant difference.\")\n",
    "    else:\n",
    "        print(f\"  Not enough data to compare {month_names[month]} and {month_names[month + 1]}.\")\n",
    "    print(\"-\" * 90)  # Separator between comparisons "
   ]
  },
  {
   "cell_type": "code",
   "execution_count": null,
   "id": "036ac4bc-e3e8-4905-8c9b-ed73f6fb04f3",
   "metadata": {},
   "outputs": [],
   "source": [
    "# 1. Dictionary to map month → season\n",
    "def month_to_season(month):\n",
    "    if month in [12, 1, 2]:\n",
    "        return 'Winter'\n",
    "    elif month in [3, 4, 5]:\n",
    "        return 'Spring'\n",
    "    elif month in [6, 7, 8]:\n",
    "        return 'Summer'\n",
    "    else:\n",
    "        return 'Fall'\n",
    "\n",
    "# 2. Add the 'season' column to your DataFrame\n",
    "df['season'] = df['month'].apply(month_to_season)\n",
    "\n",
    "# 3. Define the order of the seasons\n",
    "season_order = ['Winter', 'Spring', 'Summer', 'Fall']\n",
    "\n",
    "# 4. Compare each season with the next one\n",
    "for i in range(len(season_order) - 1):\n",
    "    season1 = season_order[i]\n",
    "    season2 = season_order[i + 1]\n",
    "\n",
    "    data_season1 = df[df['season'] == season1]['PM_2.5'].dropna()\n",
    "    data_season2 = df[df['season'] == season2]['PM_2.5'].dropna()\n",
    "\n",
    "    # Make sure we have enough data\n",
    "    if len(data_season1) > 50 and len(data_season2) > 50:\n",
    "        # Random sample of 50 measurements from each season\n",
    "        data_season1 = np.random.choice(data_season1, 50, replace=False)\n",
    "        data_season2 = np.random.choice(data_season2, 50, replace=False)\n",
    "\n",
    "        # Wilcoxon test (paired sample test)\n",
    "        stat, p_value = wilcoxon(data_season1, data_season2)\n",
    "\n",
    "        print(f\"Comparison between {season1} and {season2}:\")\n",
    "        print(f\"  Statistic: {stat:.3f}, p-value: {p_value:.4f}\")\n",
    "\n",
    "        if p_value < 0.05:\n",
    "            print(\"  ✅ Significant difference in pollution levels.\")\n",
    "        else:\n",
    "            print(\"  ❌ No significant difference.\")\n",
    "    else:\n",
    "        print(f\"Not enough data to compare {season1} and {season2}.\")\n",
    "    print(\"-\" * 80)"
   ]
  },
  {
   "cell_type": "code",
   "execution_count": null,
   "id": "bce5aa6f-a12a-43ec-a313-ae6133136d16",
   "metadata": {},
   "outputs": [],
   "source": [
    "fig = px.box(df, \n",
    "             x=\"season\", \n",
    "             y=\"PM_2.5\", \n",
    "             title=\"Distribution of pollution value by sensor\", \n",
    "             labels={\"PM_2.5\": \"Pollution value (µg/m³)\", \"sensor_name\": \"Sensor name\"})\n",
    "# Update the margins to recenter the box\n",
    "fig.update_layout(\n",
    "    margin=dict(l=40, r=40, t=40, b=40),  # Adjust the left, right, top, bottom margins\n",
    "    boxmode='group',  # Ensure that the boxes do not overlap\n",
    "    yaxis=dict(\n",
    "        range=[df['PM_2.5'].quantile(0.05), df['PM_2.5'].quantile(0.95)]  # Limit the y-axis to the 5-95% of the data\n",
    "    )\n",
    ")\n",
    "# Display the graph\n",
    "fig.show()"
   ]
  }
 ],
 "metadata": {
  "kernelspec": {
   "display_name": "Python 3 (ipykernel)",
   "language": "python",
   "name": "python3"
  },
  "language_info": {
   "codemirror_mode": {
    "name": "ipython",
    "version": 3
   },
   "file_extension": ".py",
   "mimetype": "text/x-python",
   "name": "python",
   "nbconvert_exporter": "python",
   "pygments_lexer": "ipython3",
   "version": "3.11.6"
  }
 },
 "nbformat": 4,
 "nbformat_minor": 5
}
