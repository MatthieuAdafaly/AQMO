{
 "cells": [
  {
   "cell_type": "markdown",
   "id": "00476433-40ee-4af9-a512-a611e0ab3559",
   "metadata": {},
   "source": [
    "Author: Adafaly Matthieu </br>"
   ]
  },
  {
   "cell_type": "markdown",
   "id": "ea5f3a16-c9d9-4dfa-a6bf-044bb8718e84",
   "metadata": {},
   "source": [
    "# Importing libraries\n"
   ]
  },
  {
   "cell_type": "code",
   "execution_count": null,
   "id": "04805837-ba1f-4bef-bf4c-1d00acb21934",
   "metadata": {},
   "outputs": [],
   "source": [
    "import plotly.express as px\n",
    "import pandas as pd\n",
    "import seaborn as sns\n",
    "import matplotlib.pyplot as plt\n",
    "import numpy as np\n",
    "import plotly.io as pio\n",
    "from scipy.stats import norm\n",
    "import scipy.stats as stats\n",
    "from sklearn.model_selection import train_test_split\n",
    "import calendar\n",
    "from statsmodels.graphics.tsaplots import plot_acf, plot_pacf\n",
    "from statsmodels.stats.diagnostic import acorr_ljungbox\n",
    "from statsmodels.tsa.seasonal import seasonal_decompose\n",
    "from statsmodels.tsa.stattools import adfuller\n",
    "from statsmodels.tsa.stattools import adfuller\n"
   ]
  },
  {
   "cell_type": "markdown",
   "id": "585425c8-24f5-4fcd-8203-026c38ba4791",
   "metadata": {},
   "source": [
    "# Data\n"
   ]
  },
  {
   "cell_type": "code",
   "execution_count": null,
   "id": "bc86a394-2d38-4c19-9b0d-b798dfcf0118",
   "metadata": {},
   "outputs": [],
   "source": [
    "df = pd.read_pickle(\"Data/pollution_rennes_filter.pkl\")\n",
    "print(\"dataframe loaded\")"
   ]
  },
  {
   "cell_type": "code",
   "execution_count": null,
   "id": "b605ae48-34f7-42fd-8317-61e5e0300623",
   "metadata": {
    "scrolled": true
   },
   "outputs": [],
   "source": [
    "display(df)"
   ]
  },
  {
   "cell_type": "code",
   "execution_count": null,
   "id": "cf21a912-896d-4463-8d41-998140e61301",
   "metadata": {},
   "outputs": [],
   "source": [
    "df_stationnary = df.loc[(df['sensor_type'] == 'fixedGps') & (df['PM_2.5'].notna())]\n",
    "df_mobile = df.loc[(df['sensor_type'] == 'mobileGps') & (df['PM_2.5'].notna())]"
   ]
  },
  {
   "cell_type": "markdown",
   "id": "66360f31-eecc-451a-b727-bc961ce3c475",
   "metadata": {},
   "source": [
    "## Data visualization"
   ]
  },
  {
   "cell_type": "code",
   "execution_count": null,
   "id": "8cc9f840-d594-4db2-a9d8-d9e8804ea87b",
   "metadata": {},
   "outputs": [],
   "source": [
    "# Calculate the hourly average PM₂.₅ per sensor\n",
    "mean_values = df_stationnary.groupby(['hour', 'sensor_name'])['PM_2.5'].mean().reset_index()\n",
    "\n",
    "# Remove a specific station if needed\n",
    "mean_values = mean_values[mean_values['sensor_name'] != 'standalone-LOPY-AQ05']\n",
    "\n",
    "# Set the figure size\n",
    "plt.figure(figsize=(12, 6))\n",
    "\n",
    "# Plot the lines using Seaborn\n",
    "sns.lineplot(data=mean_values, x='hour', y='PM_2.5', hue='sensor_name')\n",
    "\n",
    "# Add title and labels\n",
    "plt.title(\"Average PM₂.₅ Concentration by Hour and Sensor\")\n",
    "plt.xlabel(\"Time of Day (Hour)\")\n",
    "plt.ylabel(\"PM₂.₅ Concentration (µg/m³)\")\n",
    "plt.legend(title=\"Station\", bbox_to_anchor=(1.05, 0.5), loc='center left')\n",
    "plt.tight_layout()\n",
    "\n",
    "# Show the plot\n",
    "plt.show()\n"
   ]
  },
  {
   "cell_type": "code",
   "execution_count": null,
   "id": "c140aead-3071-4f04-b393-908e55a13ac6",
   "metadata": {},
   "outputs": [],
   "source": [
    "# Définir l'ordre des jours de la semaine\n",
    "week_days_order = ['Monday', 'Tuesday', 'Wednesday', 'Thursday', 'Friday', 'Saturday', 'Sunday']\n",
    "\n",
    "# Copier et ordonner\n",
    "df = df_stationnary.copy()\n",
    "df['day_week'] = pd.Categorical(df['day_week'], \n",
    "                                 categories=week_days_order, \n",
    "                                 ordered=True)\n",
    "\n",
    "# Calculer les moyennes sur le bon DataFrame\n",
    "mean_values = df.groupby(['day_week', 'sensor_name'], observed=True)['PM_2.5'].mean().reset_index()\n",
    "\n",
    "# Tracer\n",
    "plt.figure(figsize=(12, 6))\n",
    "sns.lineplot(data=mean_values, x='day_week', y='PM_2.5', hue='sensor_name', marker='o')\n",
    "\n",
    "# Ajouts esthétiques\n",
    "plt.title(\"Average PM₂.₅ Concentration by Day of the Week and Sensor\")\n",
    "plt.xlabel(\"Day of the Week\")\n",
    "plt.ylabel(\"PM₂.₅ Concentration (µg/m³)\")\n",
    "plt.legend(title=\"Sensor\", bbox_to_anchor=(1.05, 0.5), loc='center left')\n",
    "plt.tight_layout()\n",
    "plt.show()\n"
   ]
  },
  {
   "cell_type": "code",
   "execution_count": null,
   "id": "fb2d855f-614d-4d70-8ed6-d0da0b63ad6e",
   "metadata": {},
   "outputs": [],
   "source": [
    "pio.renderers.default = 'notebook'  # ou 'iframe', 'notebook_connected'\n",
    "df_box = df.copy()\n",
    "df_box['sensor_name'] = df_box.index.get_level_values('sensor_name')\n",
    "\n",
    "fig = px.box(df_box, \n",
    "             x=\"sensor_name\", \n",
    "             y=\"PM_2.5\", \n",
    "             title=\"Distribution of pollution value by sensor\", \n",
    "             labels={\"PM_2.5\": \"Pollution value (µg/m³)\", \"sensor_name\": \"Sensor name\"})\n",
    "\n",
    "# Update the margins to recenter the box\n",
    "fig.update_layout(\n",
    "    margin=dict(l=40, r=40, t=40, b=40),  # Adjust the left, right, top, bottom margins\n",
    "    boxmode='group',  # Ensure that the boxes do not overlap\n",
    "    yaxis=dict(\n",
    "        range=[df['PM_2.5'].quantile(0.05), df['PM_2.5'].quantile(0.95)]  # Limit the y-axis to the 5-95% of the data\n",
    "    )\n",
    ")\n",
    "\n",
    "# Display the graph\n",
    "fig.show()"
   ]
  },
  {
   "cell_type": "code",
   "execution_count": null,
   "id": "66a64043-527e-40e2-bff3-be326a31e859",
   "metadata": {},
   "outputs": [],
   "source": [
    "lissage=30\n",
    "global_mean = df.groupby(\n",
    "    df.index.get_level_values('measure_date').floor('D')\n",
    ")['PM_2.5'].mean().reset_index()\n",
    "\n",
    "global_mean.columns = ['date', 'mean_v']\n",
    "\n",
    "\n",
    "# Adding the smoothed mean\n",
    "global_mean['smoothed_mean'] = global_mean['mean_v'].rolling(window=lissage, center=True).mean()\n",
    "\n",
    "# Interactive plot of the global mean\n",
    "fig = px.line(\n",
    "    global_mean,\n",
    "    x='date',\n",
    "    y='mean_v',\n",
    "    markers=True,\n",
    "    title=\"Daily Mean PM₂.₅ Concentration\",\n",
    "    labels={\n",
    "        'mean_v': 'Concentration (µg/m³)',\n",
    "        'date': 'Date'\n",
    "    }\n",
    ")\n",
    "\n",
    "# Adding the smoothed line (black line)\n",
    "fig.add_scatter(\n",
    "    x=global_mean['date'],\n",
    "    y=global_mean['smoothed_mean'],\n",
    "    mode='lines',\n",
    "    name=f'Smoothed mean ({lissage} days)',\n",
    "    line=dict(color='black', width=3)\n",
    ")\n",
    "fig.update_traces(line_color='darkorange', line_width=3, selector=dict(name=None))  # main line\n",
    "fig.update_layout(hovermode='x unified')\n",
    "\n",
    "fig.show()"
   ]
  },
  {
   "cell_type": "markdown",
   "id": "0d670782-a260-40b3-97cf-e59876f74772",
   "metadata": {},
   "source": [
    "### Autocorrelation\n"
   ]
  },
  {
   "cell_type": "code",
   "execution_count": null,
   "id": "c6ca13dc-f7a5-4caa-9bd1-a6204f96cf8a",
   "metadata": {},
   "outputs": [],
   "source": [
    "df=df.reset_index()\n",
    "df_IRISA = df.loc[(df['sensor_name'] == 'standalone-LOPY-AQ03') & (df['PM_2.5'].notna())]"
   ]
  },
  {
   "cell_type": "code",
   "execution_count": null,
   "id": "6519cb08-62eb-4ebd-b4d6-5e95ee22703c",
   "metadata": {},
   "outputs": [],
   "source": [
    "plot_acf(df_IRISA[\"PM_2.5\"].dropna(), lags=4230)  \n",
    "plt.title(\"Autocorrelation of PM2.5 Concentration\")\n",
    "plt.xlabel(\"Lag\")\n",
    "plt.ylabel(\"Autocorrelation Coefficient\")\n",
    "plt.grid(True)\n",
    "plt.show()\n"
   ]
  },
  {
   "cell_type": "markdown",
   "id": "a3b5bb31-4eb8-427e-aa01-4692208ea9fc",
   "metadata": {},
   "source": [
    "### PM₂.₅ Data Distribution Across Different Variables\n"
   ]
  },
  {
   "cell_type": "code",
   "execution_count": null,
   "id": "b2a0be3d-75a9-44b6-a6ca-115c481ecaec",
   "metadata": {},
   "outputs": [],
   "source": [
    "months_labels = ['January', 'February', 'March', 'April', 'May', 'June',\n",
    "                 'July', 'August', 'September', 'October', 'November', 'December']\n",
    "\n",
    "\n",
    "fig, axes = plt.subplots(4, 3, figsize=(15, 12))\n",
    "axes = axes.flatten()\n",
    "\n",
    "# Plot histograms + KDE + normal distribution\n",
    "for i in range(1, 13):\n",
    "    ax = axes[i - 1]\n",
    "    data = df_IRISA[df_IRISA['month'] == i]['PM_2.5'].dropna()\n",
    "\n",
    "    if len(data) < 2:\n",
    "        ax.set_title(f\"{months_labels[i - 1]} (Not enough data)\")\n",
    "        continue\n",
    "\n",
    "    # Histogram + KDE with Seaborn\n",
    "    sns.histplot(data, bins=200, kde=True, ax=ax, color='orange', stat=\"density\", edgecolor=None)\n",
    "\n",
    "    # Normal distribution curve\n",
    "    mu = data.mean()\n",
    "    sigma = data.std()\n",
    "    x = np.linspace(0, 40, 500)\n",
    "    y = norm.pdf(x, mu, sigma)\n",
    "    ax.plot(x, y, color='red', linestyle='--', linewidth=2, label='Normal')\n",
    "\n",
    "    ax.set_title(months_labels[i - 1])\n",
    "    ax.set_xlim(0, 40)\n",
    "    ax.set_xlabel(\"PM₂.₅ (µg/m³)\")\n",
    "    ax.set_ylabel(\"Density\")\n",
    "    ax.legend()\n",
    "\n",
    "# Remove empty axes\n",
    "for j in range(len(months_labels), len(axes)):\n",
    "    fig.delaxes(axes[j])\n",
    "\n",
    "fig.suptitle(\"PM₂.₅ Distribution by Month with Normal Curve\", fontsize=16)\n",
    "plt.tight_layout(rect=[0, 0, 1, 0.96])\n",
    "plt.show()\n"
   ]
  },
  {
   "cell_type": "code",
   "execution_count": null,
   "id": "d4d620ba-671d-4a68-ae54-237c1e50866a",
   "metadata": {},
   "outputs": [],
   "source": [
    "data = df['PM_2.5'].dropna()\n",
    "data_log = np.log(data + 1)\n",
    "\n",
    "months_labels = ['January', 'February', 'March', 'April', 'May', 'June',\n",
    "                 'July', 'August', 'September', 'October', 'November', 'December']\n",
    "\n",
    "# Create a figure with 4 rows and 3 columns\n",
    "fig, axes = plt.subplots(4, 3, figsize=(15, 12))\n",
    "axes = axes.flatten()\n",
    "\n",
    "# Plot histograms + KDE + normal distribution\n",
    "for i in range(1, 13):\n",
    "    ax = axes[i - 1]\n",
    "    data = df_IRISA[df_IRISA['month'] == i]['PM_2.5'].dropna()\n",
    "    data_log = np.log(data + 1)\n",
    "    if len(data_log) < 2:\n",
    "        ax.set_title(f\"{months_labels[i - 1]} (Not enough data)\")\n",
    "        continue\n",
    "\n",
    "    # Histogram + KDE with Seaborn\n",
    "    sns.histplot(data_log, bins=200, kde=True, ax=ax, color='orange', stat=\"density\", edgecolor=None)\n",
    "\n",
    "    # Normal distribution\n",
    "    mu = data_log.mean()\n",
    "    sigma = data_log.std()\n",
    "    x = np.linspace(0, 40, 500)\n",
    "    y = norm.pdf(x, mu, sigma)\n",
    "    ax.plot(x, y, color='red', linestyle='--', linewidth=2, label='Normal')\n",
    "\n",
    "    ax.set_title(months_labels[i - 1])\n",
    "    ax.set_xlim(0, 5)\n",
    "    ax.set_xlabel(\"PM₂.₅ (µg/m³)\")\n",
    "    ax.set_ylabel(\"Density\")\n",
    "    ax.legend()\n",
    "\n",
    "# Remove empty axes\n",
    "for j in range(len(months_labels), len(axes)):\n",
    "    fig.delaxes(axes[j])\n",
    "\n",
    "fig.suptitle(\"PM₂.₅ Distribution by Month with Normal Curve\", fontsize=16)\n",
    "plt.tight_layout(rect=[0, 0, 1, 0.96])\n",
    "plt.show()\n"
   ]
  },
  {
   "cell_type": "code",
   "execution_count": null,
   "id": "a403012e-f6ec-40e4-a90d-5959357571ff",
   "metadata": {},
   "outputs": [],
   "source": [
    "df['PM_2.5'] = pd.to_numeric(df['PM_2.5'], errors='coerce')"
   ]
  },
  {
   "cell_type": "code",
   "execution_count": null,
   "id": "9c5badff-8f72-4013-813e-6c5e4ae9217d",
   "metadata": {},
   "outputs": [],
   "source": [
    "data = df['PM_2.5']\n",
    "stats.probplot(data, dist=\"norm\", plot=plt)\n",
    "plt.title(\"Q-Q plot for log(PM2.5)\")\n",
    "plt.grid()\n",
    "plt.show()\n"
   ]
  },
  {
   "cell_type": "markdown",
   "id": "c1ef4353-8de9-4d9c-9b69-cdf0dbf7cecc",
   "metadata": {},
   "source": [
    "### Aggregate by day"
   ]
  },
  {
   "cell_type": "code",
   "execution_count": null,
   "id": "4ee74206-74f2-4605-8e16-45a0d1bfc064",
   "metadata": {},
   "outputs": [],
   "source": [
    "df['date'] = pd.to_datetime(df['date'])  # Ensure datetime format\n",
    "df_day = df.groupby(df['date'].dt.floor('D'))['PM_2.5'].mean().reset_index()\n",
    "df_day['date'] = df_day['date'].dt.tz_localize(None)  # Remove timezone if present\n",
    "display(df_day)"
   ]
  },
  {
   "cell_type": "code",
   "execution_count": null,
   "id": "ff13392e-2afe-4c51-aa31-f01efbb72284",
   "metadata": {},
   "outputs": [],
   "source": [
    "df_day['year_month'] = df_day['date'].dt.to_period('M')\n",
    "count_per_month = df_day['year_month'].value_counts().sort_index()\n",
    "print(count_per_month)"
   ]
  },
  {
   "cell_type": "code",
   "execution_count": null,
   "id": "21920b84-aba7-45d8-add2-401c1e287841",
   "metadata": {},
   "outputs": [],
   "source": [
    "fig = px.line(\n",
    "    df_day,\n",
    "    x='date',\n",
    "    y='PM_2.5',\n",
    "    markers=True,\n",
    "    title=\"Daily Mean PM₂.₅ Concentration\",\n",
    "    labels={\n",
    "        'mean_v': 'Concentration (µg/m³)',\n",
    "        'date': 'Date'}\n",
    ")\n",
    "fig.show()"
   ]
  },
  {
   "cell_type": "markdown",
   "id": "a416c6cd-905f-4348-afe0-38da352b8844",
   "metadata": {},
   "source": [
    "### Time series analysis"
   ]
  },
  {
   "cell_type": "code",
   "execution_count": null,
   "id": "f3863bd7-7adc-4160-b606-d31cfc9a52ca",
   "metadata": {},
   "outputs": [],
   "source": [
    "serie=df_day['PM_2.5']\n",
    "# Create a figure with 2 subplots\n",
    "fig, axes = plt.subplots(2, 1, figsize=(10, 8))\n",
    "# Plot autocorrelation (ACF)\n",
    "plot_acf(serie, ax=axes[0], lags=100)\n",
    "axes[0].set_title('Autocorrelation (ACF)')\n",
    "# Plot partial autocorrelation (PACF)\n",
    "plot_pacf(serie, ax=axes[1], lags=100)\n",
    "axes[1].set_title('Partial Autocorrelation (PACF)')\n",
    "plt.show()"
   ]
  },
  {
   "cell_type": "code",
   "execution_count": null,
   "id": "8a8b7851-ced5-46f1-907d-70ae0a7a681b",
   "metadata": {},
   "outputs": [],
   "source": [
    "decomposition = seasonal_decompose(df_day['PM_2.5'], model='additive', period=7)\n",
    "trend = decomposition.trend\n",
    "seasonal = decomposition.seasonal\n",
    "resid = decomposition.resid\n",
    "fig, axs = plt.subplots(4, 1, figsize=(12, 10), sharex=True)\n",
    "\n",
    "# Original series\n",
    "axs[0].plot(df_day['PM_2.5'], label='Original')\n",
    "axs[0].legend(loc='upper left')\n",
    "axs[0].set_title('Original Series')\n",
    "\n",
    "# Trend\n",
    "axs[1].plot(trend, label='Trend', color='orange')\n",
    "axs[1].legend(loc='upper left')\n",
    "axs[1].set_title('Trend')\n",
    "\n",
    "# Seasonal\n",
    "axs[2].plot(seasonal, label='Seasonality', color='green')\n",
    "axs[2].legend(loc='upper left')\n",
    "axs[2].set_title('Seasonality')\n",
    "\n",
    "# Residuals\n",
    "axs[3].plot(resid, label='Residuals', color='red')\n",
    "axs[3].legend(loc='upper left')\n",
    "axs[3].set_title('Residuals')\n",
    "\n",
    "plt.tight_layout()\n",
    "plt.show()\n"
   ]
  },
  {
   "cell_type": "code",
   "execution_count": null,
   "id": "0c44156d-6f30-48c3-b306-7738686a37b1",
   "metadata": {},
   "outputs": [],
   "source": [
    "decomposition = seasonal_decompose(df_day['PM_2.5'], model='additive', period=30)\n",
    "\n",
    "trend = decomposition.trend\n",
    "seasonal = decomposition.seasonal\n",
    "resid = decomposition.resid\n",
    "fig, axs = plt.subplots(4, 1, figsize=(12, 10), sharex=True)\n",
    "\n",
    "# Original series\n",
    "axs[0].plot(df_day['PM_2.5'], label='Original')\n",
    "axs[0].legend(loc='upper left')\n",
    "axs[0].set_title('Original Series')\n",
    "\n",
    "# Trend\n",
    "axs[1].plot(trend, label='Trend', color='orange')\n",
    "axs[1].legend(loc='upper left')\n",
    "axs[1].set_title('Trend')\n",
    "\n",
    "# Seasonal\n",
    "axs[2].plot(seasonal, label='Seasonality', color='green')\n",
    "axs[2].legend(loc='upper left')\n",
    "axs[2].set_title('Seasonality')\n",
    "\n",
    "# Residuals\n",
    "axs[3].plot(resid, label='Residuals', color='red')\n",
    "axs[3].legend(loc='upper left')\n",
    "axs[3].set_title('Residuals')\n",
    "\n",
    "plt.tight_layout()\n",
    "plt.show()\n"
   ]
  },
  {
   "cell_type": "code",
   "execution_count": null,
   "id": "78cc28f8-e8e3-45d1-a12b-5ddc201ee0bc",
   "metadata": {},
   "outputs": [],
   "source": [
    "# Decompositions with different periods\n",
    "decomp_7 = seasonal_decompose(df_day['PM_2.5'], model='additive', period=7)\n",
    "decomp_30 = seasonal_decompose(df_day['PM_2.5'], model='additive', period=30)\n",
    "\n",
    "# Create the figure\n",
    "fig, axs = plt.subplots(2, 1, figsize=(14, 8), sharex=True)\n",
    "\n",
    "# Seasonal component with period = 7\n",
    "axs[0].plot(decomp_7.seasonal, label='Seasonality (P=7)', color='green')\n",
    "axs[0].legend(loc='upper left')\n",
    "axs[0].set_title('Seasonality (period = 7 days)')\n",
    "\n",
    "# Seasonal component with period = 30\n",
    "axs[1].plot(decomp_30.seasonal, label='Seasonality (P=30)', color='blue')\n",
    "axs[1].legend(loc='upper left')\n",
    "axs[1].set_title('Seasonality (period = 30 days)')\n",
    "\n",
    "plt.tight_layout()\n",
    "plt.show()\n"
   ]
  },
  {
   "cell_type": "code",
   "execution_count": null,
   "id": "e44316cc-a718-47ae-9bdd-f28aa7fb6e48",
   "metadata": {},
   "outputs": [],
   "source": [
    "# Decompositions with different periods\n",
    "decomp_7 = seasonal_decompose(df_day['PM_2.5'], model='additive', period=7)\n",
    "decomp_30 = seasonal_decompose(df_day['PM_2.5'], model='additive', period=30)\n",
    "\n",
    "# Create the figure\n",
    "fig, axs = plt.subplots(2, 1, figsize=(14, 8), sharex=True)\n",
    "\n",
    "# Trend component with period = 7\n",
    "axs[0].plot(decomp_7.trend, label='Trend (P=7)', color='orange')\n",
    "axs[0].legend(loc='upper left')\n",
    "axs[0].set_title('Trend (period = 7 days)')\n",
    "\n",
    "# Trend component with period = 30\n",
    "axs[1].plot(decomp_30.trend, label='Trend (P=30)', color='red')\n",
    "axs[1].legend(loc='upper left')\n",
    "axs[1].set_title('Trend (period = 30 days)')\n",
    "\n",
    "plt.tight_layout()\n",
    "plt.show()\n"
   ]
  },
  {
   "cell_type": "code",
   "execution_count": null,
   "id": "ac8e4e83-199e-4fc0-92c8-b0be1e14e3a6",
   "metadata": {},
   "outputs": [],
   "source": [
    "print(\"Mean of residuals:\", resid.mean())"
   ]
  },
  {
   "cell_type": "code",
   "execution_count": null,
   "id": "5507d1db-90af-4ca6-8ecf-4bd4c25c2521",
   "metadata": {},
   "outputs": [],
   "source": [
    "plot_acf(resid.dropna(), lags=30)\n",
    "plt.title(\"ACF of residuals\")\n",
    "plt.show()"
   ]
  },
  {
   "cell_type": "markdown",
   "id": "77dc13a9-f47e-45f0-9ad4-eecd4204760e",
   "metadata": {},
   "source": [
    "We study the stationarity of a time series to determine whether its statistical properties — such as mean, variance, and autocorrelation — remain constant over time or change."
   ]
  },
  {
   "cell_type": "code",
   "execution_count": null,
   "id": "bdec932e-4733-4ab3-bb21-337a406c4bb0",
   "metadata": {
    "scrolled": true
   },
   "outputs": [],
   "source": [
    "def test_stationarity(series, max_diff=2, verbose=True):\n",
    "    for d in range(max_diff + 1):\n",
    "        if d > 0:\n",
    "            series = series.diff().dropna()\n",
    "        result = adfuller(series)\n",
    "        pvalue = result[1]\n",
    "        \n",
    "        if verbose:\n",
    "            print(f\"\\nDifferencing order: {d}\")\n",
    "            print(f\"ADF Statistic: {result[0]:.4f}\")\n",
    "            print(f\"p-value: {pvalue:.4f}\")\n",
    "            print(\"=> Stationary ✅\" if pvalue < 0.05 else \"=> Not stationary ❌\")\n",
    "        \n",
    "        if pvalue < 0.05:\n",
    "            return d  \n",
    "    \n",
    "    return None  \n",
    "\n",
    "stationarity_order = test_stationarity(df_day['PM_2.5'])\n"
   ]
  },
  {
   "cell_type": "code",
   "execution_count": null,
   "id": "3f689011-bfdf-4713-bd3a-1c32e330157e",
   "metadata": {},
   "outputs": [],
   "source": [
    "df_day[\"day_week\"] = df_day[\"date\"].dt.day_name()\n",
    "mean_day = df_day.groupby('day_week',observed=False)['PM_2.5'].mean()\n",
    "mean_day = mean_day.reindex(['Monday', 'Tuesday', 'Wednesday', 'Thursday', 'Friday', 'Saturday', 'Sunday'])\n",
    "print(mean_day)"
   ]
  },
  {
   "cell_type": "code",
   "execution_count": null,
   "id": "308101db-a698-4505-a03d-e89aef7d58b5",
   "metadata": {},
   "outputs": [],
   "source": [
    "plt.figure(figsize=(8,5))\n",
    "mean_day.plot(kind='bar', color='skyblue')\n",
    "plt.title('Mean of the pollution PM2.5 by day of the week')\n",
    "plt.ylabel('PM2.5 moyen')\n",
    "plt.xlabel('Day week')\n",
    "plt.show()"
   ]
  },
  {
   "cell_type": "code",
   "execution_count": null,
   "id": "e33a10e2-e7ea-40c8-bd3c-26311837f2a0",
   "metadata": {},
   "outputs": [],
   "source": [
    "# Ensure month column is integer type and sort values properly\n",
    "df['month'] = df['month'].astype(int)\n",
    "# Create the mean PM2.5 by month\n",
    "mean_month = df.groupby('month')['PM_2.5'].mean().reindex(range(1, 13))\n",
    "# Define labels\n",
    "months_labels = ['January', 'February', 'March', 'April', 'May', 'June',\n",
    "                 'July', 'August', 'September', 'October', 'November', 'December']\n",
    "# Plotting\n",
    "plt.figure(figsize=(10, 6))\n",
    "mean_month.plot(kind='bar', color='coral')\n",
    "plt.title('Mean PM2.5 Pollution by Month')\n",
    "plt.ylabel('Mean PM2.5')\n",
    "plt.xlabel('Month')\n",
    "plt.xticks(ticks=range(12), labels=months_labels, rotation=45)\n",
    "plt.tight_layout()\n",
    "plt.show()"
   ]
  }
 ],
 "metadata": {
  "kernelspec": {
   "display_name": "Python 3 (ipykernel)",
   "language": "python",
   "name": "python3"
  },
  "language_info": {
   "codemirror_mode": {
    "name": "ipython",
    "version": 3
   },
   "file_extension": ".py",
   "mimetype": "text/x-python",
   "name": "python",
   "nbconvert_exporter": "python",
   "pygments_lexer": "ipython3",
   "version": "3.11.6"
  }
 },
 "nbformat": 4,
 "nbformat_minor": 5
}
