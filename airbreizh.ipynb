{
 "cells": [
  {
   "cell_type": "code",
   "execution_count": null,
   "id": "54c7f291-c308-47d3-9367-2a457792ed58",
   "metadata": {},
   "outputs": [],
   "source": [
    "import json\n",
    "import lzma\n",
    "import glob\n",
    "import pandas as pd\n",
    "import psutil\n",
    "import numpy as np\n",
    "import seaborn as sns\n",
    "import matplotlib.pyplot as plt\n",
    "import warnings\n",
    "import plotly.express as px\n",
    "from IPython.display import display, Markdown\n",
    "import tkinter as tk\n",
    "from tkcalendar import Calendar\n",
    "from datetime import datetime, timedelta\n",
    "import folium\n",
    "from IPython.display import display, IFrame\n",
    "from sklearn.cluster import DBSCAN\n",
    "from folium.plugins import Draw\n",
    "from tkinter import filedialog\n",
    "import webbrowser\n",
    "from sklearn.metrics import mean_absolute_error, mean_squared_error\n",
    "from scipy.stats import ttest_rel, wilcoxon, shapiro\n",
    "warnings.filterwarnings(\"ignore\")"
   ]
  },
  {
   "cell_type": "markdown",
   "id": "86519e99-7a79-4f8c-b0b6-ff34694cf894",
   "metadata": {},
   "source": [
    "### Data import"
   ]
  },
  {
   "cell_type": "code",
   "execution_count": null,
   "id": "f3474aea-c3a4-4408-b069-7d9c224f4d51",
   "metadata": {},
   "outputs": [],
   "source": [
    "data=pd.read_excel('Data/Data_air_breizh.xlsx', sheet_name=1)\n",
    "print(type(data))  # Prints the type of the data\n",
    "print(len(data))  # Prints the length (if it's a list or dictionary)"
   ]
  },
  {
   "cell_type": "code",
   "execution_count": null,
   "id": "f0aa4265-fa04-48da-9b3d-60295fcb8a4f",
   "metadata": {},
   "outputs": [],
   "source": [
    "print(list(data.keys()))  "
   ]
  },
  {
   "cell_type": "code",
   "execution_count": null,
   "id": "d32766df-c2c8-4cbe-9d74-128f57909fcc",
   "metadata": {},
   "outputs": [],
   "source": [
    "display(data)"
   ]
  },
  {
   "cell_type": "code",
   "execution_count": null,
   "id": "03fd810b-250d-4afc-81ff-5f69891160d0",
   "metadata": {},
   "outputs": [],
   "source": [
    "# Sélectionner les colonnes qui contiennent \"P25E\"\n",
    "cols_p25e = [col for col in data.columns if 'P25E' in col]\n",
    "\n",
    "# Ajouter éventuellement la colonne 'date' si tu veux la garder aussi\n",
    "cols_to_keep = ['date'] + cols_p25e\n",
    "\n",
    "# Nouveau DataFrame avec uniquement ces colonnes\n",
    "df = data[cols_to_keep]\n",
    "print(df.head())\n"
   ]
  },
  {
   "cell_type": "code",
   "execution_count": null,
   "id": "05e6b4a4-ea82-40a7-9453-febcc21da238",
   "metadata": {},
   "outputs": [],
   "source": [
    "moyenne_airb= df['P25E_LAE'].mean()\n",
    "print(moyenne_airb)"
   ]
  },
  {
   "cell_type": "code",
   "execution_count": null,
   "id": "e9b117de-cd38-41b4-ba17-42f9e4331639",
   "metadata": {},
   "outputs": [],
   "source": [
    "df_2020 = pd.read_pickle(\"Data/pollution_rennes.pkl\")\n",
    "df_2020 = df_2020.reset_index()\n",
    "print(\"dataframe chargés\")"
   ]
  },
  {
   "cell_type": "code",
   "execution_count": null,
   "id": "25bd8c84-e06d-42aa-8f81-18ccf85cbee2",
   "metadata": {},
   "outputs": [],
   "source": [
    "df_2020['date'] = pd.to_datetime(df_2020['measure_date'])\n",
    "df_2020= df_2020.set_index('date')"
   ]
  },
  {
   "cell_type": "code",
   "execution_count": null,
   "id": "4b03d8cc-1683-4ba2-8374-b772295e0731",
   "metadata": {},
   "outputs": [],
   "source": [
    "moyenne_aqmo= df_2020['PM_2.5'].mean()\n",
    "print(moyenne_aqmo)"
   ]
  },
  {
   "cell_type": "code",
   "execution_count": null,
   "id": "3e7cf57d-67dc-424c-b67c-bdc64dd92837",
   "metadata": {},
   "outputs": [],
   "source": [
    "display(df_2020)"
   ]
  },
  {
   "cell_type": "code",
   "execution_count": null,
   "id": "8ff5953c-4e6d-4b11-bad4-a487e59e3bb5",
   "metadata": {},
   "outputs": [],
   "source": [
    "df_2020 = df_2020.groupby(\n",
    "    df_2020.index.get_level_values('date').floor('D')\n",
    ").agg(\n",
    "    PM2_5_AQMO=('PM_2.5', 'mean')\n",
    ").reset_index()\n",
    "\n",
    "df_2020['date'] = df_2020['date'].dt.tz_localize(None)\n",
    "display(df_2020)\n"
   ]
  },
  {
   "cell_type": "code",
   "execution_count": null,
   "id": "d5919b92-6113-4f42-a042-78650fc40ab4",
   "metadata": {},
   "outputs": [],
   "source": [
    "df=df.set_index('date')\n",
    "df_day = df.groupby(\n",
    "    df.index.get_level_values('date').floor('D')\n",
    ").agg(\n",
    "    PM2_5_pba=('P25E_PBA', 'mean'),\n",
    "    PM2_5_lae=('P25E_LAE', 'mean')  # ou une autre fonction\n",
    ").reset_index()\n",
    "\n",
    "df_day['date'] = df_day['date'].dt.tz_localize(None)\n",
    "display(df_day)\n"
   ]
  },
  {
   "cell_type": "code",
   "execution_count": null,
   "id": "92e6c3cf-35c9-4eab-9737-5a79ddee8522",
   "metadata": {},
   "outputs": [],
   "source": [
    "resultat = pd.merge(df_2020, df, on='date', how='right')\n",
    "resultat=resultat.dropna()\n",
    "resultat=resultat.set_index('date')\n",
    "display(resultat)\n"
   ]
  },
  {
   "cell_type": "markdown",
   "id": "0461e4ff-69df-47b7-9ff1-1f971afe0af5",
   "metadata": {},
   "source": [
    "## Comparaison Aqmo "
   ]
  },
  {
   "cell_type": "code",
   "execution_count": null,
   "id": "1d5bf84f-58bd-4ba1-b047-6bd98aaac668",
   "metadata": {},
   "outputs": [],
   "source": [
    "moyenne_AQMO= resultat"
   ]
  },
  {
   "cell_type": "code",
   "execution_count": null,
   "id": "cec8d13a-f70f-4855-9e4c-1c05e22dda04",
   "metadata": {},
   "outputs": [],
   "source": [
    "correlation_matrix = resultat.corr(method='spearman')\n",
    "print(correlation_matrix)"
   ]
  },
  {
   "cell_type": "code",
   "execution_count": null,
   "id": "11672ce9-28e2-4775-9b37-1a0d94bd4348",
   "metadata": {},
   "outputs": [],
   "source": [
    "sns.heatmap(correlation_matrix, annot=True, cmap='coolwarm')\n",
    "plt.title(\"Matrice de corrélation\")\n",
    "plt.show()\n"
   ]
  },
  {
   "cell_type": "code",
   "execution_count": null,
   "id": "07bb9f8c-fa5f-4e85-a5cf-bb7aa38b00a7",
   "metadata": {},
   "outputs": [],
   "source": [
    "# Tracé du nuage de points\n",
    "plt.scatter(resultat['PM2_5_AQMO'],resultat['P25E_PBA'])\n",
    "plt.title(\"Nuage de points des données de pollution\")\n",
    "plt.xlabel(\"AQMO\")\n",
    "plt.ylabel(\"PBA Air Breizh\")\n",
    "plt.show()"
   ]
  },
  {
   "cell_type": "code",
   "execution_count": null,
   "id": "8442eeeb-cb9e-4017-8538-dee8af198de8",
   "metadata": {},
   "outputs": [],
   "source": [
    "resultat['diff'] = resultat['PM2_5_AQMO'] - resultat['P25E_PBA']\n",
    "\n",
    "# Histogramme\n",
    "sns.histplot(resultat['diff'], bins=30, kde=False, stat='density',\n",
    "             color='orange', edgecolor='black', label='Données')\n",
    "\n",
    "# Courbe normale\n",
    "xmin, xmax = plt.xlim()\n",
    "x = np.linspace(xmin, xmax, 100)\n",
    "\n",
    "\n",
    "# Texte affiché en haut à droite\n",
    "text_str = f\"μ = {mu:.2f}\\nσ = {std:.2f}\"\n",
    "plt.text(xmax * 0.60, 0.1 * 0.9, text_str,\n",
    "         fontsize=12, bbox=dict(facecolor='white', edgecolor='black'))\n",
    "\n",
    "# Personnalisation\n",
    "plt.title(\"Histogramme des différences des valeurs de pollution\")\n",
    "plt.xlabel(\"Différence (AQMO Irisa - Air Breizh Pays Bas)\")\n",
    "plt.ylabel(\"Densité\")\n",
    "plt.legend()\n",
    "plt.grid(True)\n",
    "plt.show()"
   ]
  },
  {
   "cell_type": "code",
   "execution_count": null,
   "id": "1eadfbf8-cc48-4679-a491-36bc40274766",
   "metadata": {},
   "outputs": [],
   "source": [
    "from statsmodels.graphics.tsaplots import plot_acf, plot_pacf\n",
    "serie = resultat['diff']\n",
    "# Create a figure with 2 subplots\n",
    "fig, axes = plt.subplots(2, 1, figsize=(10, 8))\n",
    "\n",
    "# Plot autocorrelation (ACF)\n",
    "plot_acf(serie, ax=axes[0], lags=100)\n",
    "axes[0].set_title('Autocorrelation (ACF)')\n",
    "\n",
    "# Plot partial autocorrelation (PACF)\n",
    "plot_pacf(serie, ax=axes[1], lags=100)\n",
    "axes[1].set_title('Partial Autocorrelation (PACF)')\n",
    "\n",
    "plt.show()\n"
   ]
  },
  {
   "cell_type": "markdown",
   "id": "1e45947e-9f65-42de-98b3-9d1c8f051a0b",
   "metadata": {},
   "source": [
    "### Test de wilcoxon pour savoir si les différences entre les données AQMO et d'Air Breizh"
   ]
  },
  {
   "cell_type": "code",
   "execution_count": null,
   "id": "951004e2-b8c7-4319-bf49-1019c3290ea0",
   "metadata": {},
   "outputs": [],
   "source": [
    "stat, p_value = wilcoxon(resultat['PM2_5_AQMO'], resultat['P25E_PBA'])\n",
    "print(stat)\n",
    "print(p_value)"
   ]
  },
  {
   "cell_type": "markdown",
   "id": "a9412618-91f9-4946-bc04-769ecd2b6bfd",
   "metadata": {},
   "source": [
    "### Erreur des capteurs AQMO"
   ]
  },
  {
   "cell_type": "code",
   "execution_count": null,
   "id": "9d4002f2-d70c-421f-9754-854a2a0adba0",
   "metadata": {},
   "outputs": [],
   "source": [
    "mae = mean_absolute_error(resultat['PM2_5_AQMO'], resultat['P25E_PBA'])\n",
    "rmse = np.sqrt(mean_squared_error(resultat['PM2_5_AQMO'], resultat['P25E_PBA']))\n",
    "\n",
    "print(\"MAE :\", mae)\n",
    "print(\"RMSE :\", rmse)"
   ]
  }
 ],
 "metadata": {
  "kernelspec": {
   "display_name": "Python 3 (ipykernel)",
   "language": "python",
   "name": "python3"
  },
  "language_info": {
   "codemirror_mode": {
    "name": "ipython",
    "version": 3
   },
   "file_extension": ".py",
   "mimetype": "text/x-python",
   "name": "python",
   "nbconvert_exporter": "python",
   "pygments_lexer": "ipython3",
   "version": "3.11.6"
  }
 },
 "nbformat": 4,
 "nbformat_minor": 5
}
