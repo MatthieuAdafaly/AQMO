{
 "cells": [
  {
   "cell_type": "markdown",
   "id": "00476433-40ee-4af9-a512-a611e0ab3559",
   "metadata": {},
   "source": [
    "Author: Adafaly Matthieu </br>"
   ]
  },
  {
   "cell_type": "markdown",
   "id": "1ab0e050-babd-49d6-9daf-fa1398bc3034",
   "metadata": {},
   "source": [
    "This notebook is used to prepare the Data_Exploration notebook.\n",
    "Its purpose is to create a new dataset that combines a time filter and a location filter, allowing you to analyze a subset of the data according to your preferences."
   ]
  },
  {
   "cell_type": "markdown",
   "id": "ea5f3a16-c9d9-4dfa-a6bf-044bb8718e84",
   "metadata": {},
   "source": [
    "# Importation of the libraries\n"
   ]
  },
  {
   "cell_type": "code",
   "execution_count": null,
   "id": "04805837-ba1f-4bef-bf4c-1d00acb21934",
   "metadata": {},
   "outputs": [],
   "source": [
    "import pandas as pd\n",
    "from IPython.display import display, Markdown\n",
    "from datetime import datetime, timedelta"
   ]
  },
  {
   "cell_type": "markdown",
   "id": "585425c8-24f5-4fcd-8203-026c38ba4791",
   "metadata": {},
   "source": [
    "# Data"
   ]
  },
  {
   "cell_type": "code",
   "execution_count": null,
   "id": "bc86a394-2d38-4c19-9b0d-b798dfcf0118",
   "metadata": {},
   "outputs": [],
   "source": [
    "df = pd.read_pickle(\"Data/pollution_rennes.pkl\")\n",
    "df=df.reset_index()\n",
    "df_stationnary = df.loc[(df['sensor_type'] == 'fixedGps') & (df['PM_2.5'].notna())]\n",
    "df_mobile = df.loc[(df['sensor_type'] == 'mobileGps') & (df['PM_2.5'].notna())]\n",
    "print(\"dataframe loaded\")"
   ]
  },
  {
   "cell_type": "markdown",
   "id": "448be4d8-e8d4-49ac-b4b7-271b319faac3",
   "metadata": {},
   "source": [
    "### Visualization to help you choose how to filter the data"
   ]
  },
  {
   "cell_type": "code",
   "execution_count": null,
   "id": "42ef4226-98bc-4acb-ac9d-95b20630f458",
   "metadata": {},
   "outputs": [],
   "source": [
    "df.groupby('sensor_name')['sensor_type'].unique()"
   ]
  },
  {
   "cell_type": "code",
   "execution_count": null,
   "id": "9720f501-1a58-4956-8f9b-f09960872f3a",
   "metadata": {},
   "outputs": [],
   "source": [
    "df_comparaison_sensor = pd.DataFrame({\n",
    "    'Total': df['sensor_name'].value_counts().sort_index(),\n",
    "}).fillna(0).astype(int)\n",
    "\n",

     
    "display(Markdown(\"### Chart of the repartion if the pollution have a value or not by sensor\"))\n",

    "display(df_comparaison_sensor)"
   ]
  },
  {
   "cell_type": "code",
   "execution_count": null,
   "id": "e9a71fef-8ce9-4f69-b156-d44514e95150",
   "metadata": {},
   "outputs": [],
   "source": [
    "# Create a series representing the month indices (1 to 12)\n",
    "month_index = pd.Series(range(1, 13), name=\"month\")\n",
    "# Create a DataFrame 'df_sensor_type_comparison' by counting occurrences of 'mois' in different DataFrames\n",
    "df_sensor_type_comparison = pd.DataFrame({\n",
    "    'global': df['month'].value_counts().reindex(month_index).fillna(0),  # Counts from the 'df' DataFrame\n",
    "    'mobile': df_mobile['month'].value_counts().reindex(month_index).fillna(0),  # Counts from 'df_mobile'\n",
    "    'stationnary': df_stationnary['month'].value_counts().reindex(month_index).fillna(0)  # Counts from 'df_stationnary'\n",
    "}).astype(int)  # Ensures all values are integers\n",
    "\n",
    "month_names = {\n",
    "    1: \"January\", 2: \"February\", 3: \"March\", 4: \"April\",\n",
    "    5: \"May\", 6: \"June\", 7: \"July\", 8: \"August\",\n",
    "    9: \"September\", 10: \"October\", 11: \"November\", 12: \"December\"\n",
    "}\n",
    "\n",
    "\n",
    "# Replace the index with the month names instead of month numbers\n",
    "df_sensor_type_comparison.index = df_sensor_type_comparison.index.map(month_names)\n",
    "\n",
    "# Calculate the total row by summing the columns\n",
    "total_row = df_sensor_type_comparison[['global', 'mobile', 'stationnary']].sum()\n",
    "\n",
    "# Add the total row to the DataFrame\n",
    "df_sensor_type_comparison.loc['Total'] = total_row\n",
    "\n",
    "# Display the title as markdown\n",
    "display(Markdown(\"### Chart of the number of measure by month\"))\n",
    "\n",
    "# Display the resulting DataFrame\n",
    "display(df_sensor_type_comparison)"
   ]
  },
  {
   "cell_type": "markdown",
   "id": "a3724479-3e75-4495-ac29-63c8147b4d48",
   "metadata": {},
   "source": [
    "### Select the analysis period"
   ]
  },
  {
   "cell_type": "code",
   "execution_count": null,
   "id": "207610f5-682d-4b24-bcea-9e15ff760429",
   "metadata": {},
   "outputs": [],
   "source": [
    "# Convert the 'measure_date' column to datetime\n",
    "df['date'] = pd.to_datetime(df['measure_date'], format='%Y-%m-%d', utc=True)\n",
    "\n",
    "# Function to validate a date in the YYYY-MM-DD format\n",
    "def validate_date(date_str):\n",
    "    try:\n",
    "        # Try to convert the string to a date object\n",
    "        datetime.strptime(date_str, '%Y-%m-%d')\n",
    "        return True\n",
    "    except ValueError:\n",
    "        return False\n",
    "\n",
    "# Ask the user for the start and end date\n",
    "start_date = '2020-04-11'\n",
    "end_date = \"2020-12-16\"\n",
    "\n",
    "# If the user enters \"start\", use the first date from the DataFrame\n",
    "if start_date.lower() == \"start\":\n",
    "    start_date = df['date'].min().strftime('%Y-%m-%d')  # Use the earliest date in the DataFrame\n",
    "    print(f\"Start date set to: {start_date}\")\n",
    "\n",
    "# If the user enters \"end\", use the last date from the DataFrame\n",
    "if end_date.lower() == \"end\":\n",
    "    end_date = df['date'].max().strftime('%Y-%m-%d')  # Use the latest date in the DataFrame\n",
    "    print(f\"End date set to: {end_date}\")\n",
    "\n",
    "# Check that the dates are filled and in the correct format\n",
    "if start_date and end_date:\n",
    "    if validate_date(start_date) and validate_date(end_date):\n",
    "        print(\"Dates are valid.\")\n",
    "    else:\n",
    "        print(\"One or more dates are invalid. Please use the YYYY-MM-DD format.\")\n",
    "else:\n",
    "    print(\"Date fields cannot be empty.\")\n",
    "\n",
    "# Convert start and end dates to datetime with the desired time\n",
    "start_date = datetime.strptime(start_date + ' 00:00', '%Y-%m-%d %H:%M')\n",
    "end_date = datetime.strptime(end_date + ' 23:59', '%Y-%m-%d %H:%M')\n",
    "\n",
    "# Also convert them to datetime64[ns, UTC] for comparison with pandas\n",
    "start_date = pd.to_datetime(start_date, utc=True)\n",
    "end_date = pd.to_datetime(end_date, utc=True)\n",
    "\n",
    "# Filter the DataFrame based on the selected date range\n",
    "filtered_df = df[(df['date'] >= start_date) & (df['date'] <= end_date)]\n",
    "\n",
    "# Display the filtered results\n",
    "print(\"Filtered data:\")\n",
    "display(filtered_df)"
   ]
  },
  {
   "cell_type": "markdown",
   "id": "fc4ad960-ad2a-4b2b-b45b-c95d57801b83",
   "metadata": {},
   "source": [
    "### Choose sensors to filter"
   ]
  },
  {
   "cell_type": "code",
   "execution_count": null,
   "id": "a52929c7-b410-4c44-a7ff-5a8b5ff2e434",
   "metadata": {},
   "outputs": [],
   "source": [
    "# List of sensor available\n",
    "print(f\"sensor available {df['sensor_name'].unique()}\")\n",
    "sensor_selected = ['standalone-LOPY-AQ03', 'parautarin02', 'standalone-LOPY-AQ09', 'parautarin31', 'parautarin30', 'standalone-LOPY-AQ05', 'parautarin34', 'parautarin33', 'parautarin32', 'parautarin35']\n",
    "print(f'sensor selected({sensor_selected})')"
   ]
  },
  {
   "cell_type": "code",
   "execution_count": null,
   "id": "86fb2872-9f33-4afa-bf4b-5bc37211384c",
   "metadata": {},
   "outputs": [],
   "source": [
    "print(sensor_selected)\n",
    "print(start_date)\n",
    "print(end_date)"
   ]
  },
  {
   "cell_type": "code",
   "execution_count": null,
   "id": "7a195106-0bd8-47d9-a8cd-d065eebc0f7a",
   "metadata": {
    "scrolled": true
   },
   "outputs": [],
   "source": [
    "df_filter = df[(df['measure_date'] >= start_date) & (df['measure_date'] <= end_date) & (df['sensor_name'].isin(sensor_selected))]\n",
    "print(\"Data filter :\")\n",
    "display(df_filter)"
   ]
  },
  {
   "cell_type": "code",
   "execution_count": null,
   "id": "e3ebb96c-59ed-4277-a744-daaa6c51f560",
   "metadata": {},
   "outputs": [],
   "source": [
    "df_filter = df_filter.set_index([\"sensor_name\", \"measure_date\"])\n",
    "df_filter.to_pickle('Data/pollution_rennes_filter.pkl')"
   ]
  }
 ],
 "metadata": {
  "kernelspec": {
   "display_name": "Python 3 (ipykernel)",
   "language": "python",
   "name": "python3"
  },
  "language_info": {
   "codemirror_mode": {
    "name": "ipython",
    "version": 3
   },
   "file_extension": ".py",
   "mimetype": "text/x-python",
   "name": "python",
   "nbconvert_exporter": "python",
   "pygments_lexer": "ipython3",
   "version": "3.11.6"
  }
 },
 "nbformat": 4,
 "nbformat_minor": 5
}
